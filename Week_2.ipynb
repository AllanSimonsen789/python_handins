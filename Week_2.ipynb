{
 "cells": [
  {
   "cell_type": "markdown",
   "metadata": {},
   "source": [
    "# Week 1 handin"
   ]
  },
  {
   "cell_type": "markdown",
   "metadata": {},
   "source": [
    "## 01 Assignment\n",
    "### Exercise 1\n",
    "\n",
    "Create a python file with 3 functions:\n",
    "\n",
    "def print_file_content(file) that can print content of a csv file to the console\n",
    "\n",
    "def write_list_to_file(output_file, lst) that can take a list of tuple and write each element to a new line in file\n",
    "rewrite the function so that it gets an arbitrary number of strings instead of a list\n",
    "\n",
    "def read_csv(input_file) that take a csv file and read each row into a list\n",
    "\n",
    "Add a functionality so that the file can be called from cli with 2 arguments\n",
    "path to csv file\n",
    "an argument --file file_name that if given will write the content to file_name or otherwise will print it to the console.\n",
    "Add a --help cli argument to describe how the module is used\n",
    "\n",
    "### Exercise 2\n",
    "Create a module called utils.py with the following 5 functions:\n",
    "\n",
    "def get_file_names(folderpath,out=output.txt):\n",
    "    \"\"\" takes a path to a folder and writes all filenames in the folder to a specified output file\"\"\"\n",
    "\n",
    "def get_all_file_names(folderpath,out=output.txt):\n",
    "    \"\"\"takes a path to a folder and write all filenames recursively (files of all sub folders to)\"\"\"\n",
    "\n",
    "def print_line_one(file_names):\n",
    "    \"\"\"takes a list of filenames and print the first line of each\"\"\"\n",
    "\n",
    "def print_emails(file_names):\n",
    "    \"\"\"takes a list of filenames and print each line that contains an email (just look for @)\"\"\"\n",
    "\n",
    "def write_headlines(md_files, out=output.txt):\n",
    "    \"\"\"takes a list of md files and writes all headlines (lines starting with #) to a file\"\"\"\n",
    "    \n",
    "Make sure your module can be called both from cli and imported to another module Create a new module that imports utils.py and test each function."
   ]
  },
  {
   "source": [
    "## 02 Status\n",
    "Solved all tasks"
   ],
   "cell_type": "markdown",
   "metadata": {}
  },
  {
   "cell_type": "markdown",
   "metadata": {},
   "source": [
    "## Exercise 1\n"
   ]
  },
  {
   "cell_type": "code",
   "execution_count": 1,
   "metadata": {
    "tags": []
   },
   "outputs": [
    {
     "output_type": "stream",
     "name": "stdout",
     "text": "Row 1 ['Hello', ' Hello2', ' Hello3', ' Hello4']\nRow 2 ['Hello', ' Hello2', ' Hello3', ' Hello4']\nRow 3 ['Hello', ' Hello2', ' Hello3', ' Hello4']\nRow 4 ['Hello', ' Hello2', ' Hello3', ' Hello4']\nRow 5 ['Hello', ' Hello2', ' Hello3', ' Hello4']\nRow 6 ['Hello', ' Hello2', ' Hello3', ' Hello4']\nRow 7 ['Hello', ' Hello2', ' Hello3', ' Hello4']\nRow 8 ['Hello', ' Hello2', ' Hello3', ' Hello4']\nRow 9 ['Hello', ' Hello2', ' Hello3', ' Hello4']\nRow 10 ['Hello', ' Hello2', ' Hello3', ' Hello4']\n"
    }
   ],
   "source": [
    "#1A def print_file_content(file) that can print content of a csv file to the console\n",
    "import week2modules.ex1modules as exFunc\n",
    "\n",
    "csvfile = \"week2modules/words.csv\"\n",
    "\n",
    "exFunc.print_file_content(csvfile)"
   ]
  },
  {
   "cell_type": "code",
   "execution_count": 1,
   "metadata": {},
   "outputs": [],
   "source": [
    "#1B def write_list_to_file(output_file, lst) that can take a list of tuple and write each element to a new line in file rewrite the function so that it gets an arbitrary number of strings instead of a list\n",
    "import week2modules.ex1modules as exFunc\n",
    "\n",
    "output_file = \"week2modules/outputwords.txt\"\n",
    "\n",
    "exFunc.write_list_to_file(output_file, \"Hello\", \"Hello2\", \"Hello3\", \"hello4\", \"Hello5\")"
   ]
  },
  {
   "cell_type": "code",
   "execution_count": 1,
   "metadata": {
    "tags": []
   },
   "outputs": [
    {
     "output_type": "execute_result",
     "data": {
      "text/plain": "['Hello', ' Hello2', ' Hello3', ' Hello4']"
     },
     "metadata": {},
     "execution_count": 1
    }
   ],
   "source": [
    "#1C def read_csv(input_file) that take a csv file and read each row into a list\n",
    "import week2modules.ex1modules as exFunc\n",
    "\n",
    "csvfile = \"week2modules/words.csv\"\n",
    "\n",
    "exFunc.read_csv(csvfile)\n"
   ]
  },
  {
   "source": [
    "## Exercise 2\n",
    "    \n"
   ],
   "cell_type": "markdown",
   "metadata": {}
  },
  {
   "source": [
    "# 2A def get_file_names(folderpath,out=output.txt): \"\"\" takes a path to a folder and writes all filenames in the folder to a specified output file\"\"\"\n",
    "import week2modules.utils as u\n",
    "\n",
    "\n",
    "printtofile = \"week2modules/filenames.txt\"\n",
    "folder = \"./week2modules\"\n",
    "u.get_file_names(folder,printtofile)\n"
   ],
   "cell_type": "code",
   "metadata": {
    "tags": []
   },
   "execution_count": 4,
   "outputs": []
  },
  {
   "cell_type": "code",
   "execution_count": 5,
   "metadata": {},
   "outputs": [],
   "source": [
    "#2B def get_all_file_names(folderpath,out=output.txt): \"\"\"takes a path to a folder and write all filenames recursively (files of all sub folders to)\"\"\"\n",
    "\n",
    "import week2modules.utils as u\n",
    "\n",
    "printtofile = \"week2modules/filenamesrecursive.txt\"\n",
    "folder = \".\"\n",
    "u.get_all_file_names(folder,printtofile)\n",
    "\n"
   ]
  },
  {
   "cell_type": "code",
   "execution_count": 1,
   "metadata": {
    "tags": []
   },
   "outputs": [
    {
     "output_type": "stream",
     "name": "stdout",
     "text": "test1\n\ntest2\n\ntest3\n"
    }
   ],
   "source": [
    "#2C def print_line_one(file_names): \"\"\"takes a list of filenames and print the first line of each\"\"\"\n",
    "\n",
    "import week2modules.utils as u\n",
    "\n",
    "list = [\"week2modules/exercise2Cfiles/test1.txt\",\"week2modules/exercise2Cfiles/test2.txt\",\"week2modules/exercise2Cfiles/test3.txt\"]\n",
    "\n",
    "u.print_line_one(list)"
   ]
  },
  {
   "cell_type": "code",
   "execution_count": 1,
   "metadata": {
    "tags": []
   },
   "outputs": [
    {
     "output_type": "stream",
     "name": "stdout",
     "text": "test@test.dk\ntest@test3.dk\n\n@@testtest.dk\n"
    }
   ],
   "source": [
    "#2D def print_emails(file_names): \"\"\"takes a list of filenames and print each line that contains an email (just look for @)\"\"\"\n",
    "\n",
    "import week2modules.utils as u\n",
    "\n",
    "list = [\"week2modules/exercise2Cfiles/test1.txt\",\"week2modules/exercise2Cfiles/test2.txt\",\"week2modules/exercise2Cfiles/test3.txt\"]\n",
    "\n",
    "u.print_emails(list)\n"
   ]
  },
  {
   "cell_type": "code",
   "execution_count": 2,
   "metadata": {},
   "outputs": [
    {
     "output_type": "error",
     "ename": "AttributeError",
     "evalue": "module 'week2modules.utils' has no attribute 'print_headlines'",
     "traceback": [
      "\u001b[0;31m---------------------------------------------------------------------------\u001b[0m",
      "\u001b[0;31mAttributeError\u001b[0m                            Traceback (most recent call last)",
      "\u001b[0;32m<ipython-input-2-a840543f760f>\u001b[0m in \u001b[0;36m<module>\u001b[0;34m\u001b[0m\n\u001b[1;32m      6\u001b[0m \u001b[0moutput\u001b[0m\u001b[0;34m=\u001b[0m \u001b[0;34m\"week2modules/headlines.txt\"\u001b[0m\u001b[0;34m\u001b[0m\u001b[0;34m\u001b[0m\u001b[0m\n\u001b[1;32m      7\u001b[0m \u001b[0;34m\u001b[0m\u001b[0m\n\u001b[0;32m----> 8\u001b[0;31m \u001b[0mu\u001b[0m\u001b[0;34m.\u001b[0m\u001b[0mprint_headlines\u001b[0m\u001b[0;34m(\u001b[0m\u001b[0mlist\u001b[0m\u001b[0;34m,\u001b[0m \u001b[0moutput\u001b[0m\u001b[0;34m)\u001b[0m\u001b[0;34m\u001b[0m\u001b[0;34m\u001b[0m\u001b[0m\n\u001b[0m",
      "\u001b[0;31mAttributeError\u001b[0m: module 'week2modules.utils' has no attribute 'print_headlines'"
     ]
    }
   ],
   "source": [
    "#2E def write_headlines(md_files, out=output.txt): \"\"\"takes a list of md files and writes all headlines (lines starting with #) to a file\"\"\"\n",
    "\n",
    "import week2modules.utils as u\n",
    "\n",
    "list = [\"week2modules/exercise2Cfiles/markdown.md\",\"week2modules/exercise2Cfiles/markdown2.md\",\"week2modules/exercise2Cfiles/test3.txt\"]\n",
    "output= \"week2modules/headlines.txt\"\n",
    "\n",
    "u.write_headlines(list, output)"
   ]
  },
  {
   "cell_type": "code",
   "execution_count": null,
   "metadata": {},
   "outputs": [],
   "source": []
  }
 ],
 "metadata": {
  "kernelspec": {
   "display_name": "Python 3",
   "language": "python",
   "name": "python3"
  },
  "language_info": {
   "codemirror_mode": {
    "name": "ipython",
    "version": 3
   },
   "file_extension": ".py",
   "mimetype": "text/x-python",
   "name": "python",
   "nbconvert_exporter": "python",
   "pygments_lexer": "ipython3",
   "version": "3.7.6-final"
  }
 },
 "nbformat": 4,
 "nbformat_minor": 4
}