{
 "cells": [
  {
   "cell_type": "markdown",
   "metadata": {},
   "source": [
    "# Week 3 handin"
   ]
  },
  {
   "cell_type": "markdown",
   "metadata": {},
   "source": [
    "## 01 Assignment\n",
    "\n",
    "## Ex 1 Classes\n",
    "1. Create 3 classes: Student, DataSheet and Course\n",
    "2. A student has a data_sheet and a data_sheet has multiple courses in particular order\n",
    "3. Each course has name, classroom, teacher, ETCS and optional grade if course is taken.\n",
    "4. In Student create __init__() so that a Student can be initiated with name, gender, data_sheet and image_url\n",
    "5. In DataSheet create a method to get_grades_as_list()\n",
    "6. In student create a method: get_avg_grade()\n",
    "7. Create a function that can generate n number of students with random: name, gender, courses (from a fixed list of course names), grades, img_url\n",
    "   1. Let the function write the result to a csv file with format stud_name, course_name, teacher, ects, classroom, grade, img_url\n",
    "7. Read student data into a list of Students from a csv file: \n",
    "   1. loop through the list and print each student with name, img_url and avg_grade.\n",
    "   2. sort the list by avg_grade\n",
    "   3. create a bar chart with student_name on x and avg_grade on y-axis\n",
    "8. Make a method on Student class that can show progression of the study in % (add up ECTS from all passed courses divided by total of 150 total points (equivalent to 5 semesters))\n",
    "9. Show a bar chart of distribution of study progression on x-axis and number of students in each category on y-axis. (e.g. make 10 categories from 0-100%)\n",
    "\n",
    "Extra: Make the Datasheet class iterable so that next(data_sheet) will return the next course in the list\n",
    "\n",
    "## Ex 2 Exceptions (extra)\n",
    "1. Create a function that can take a list of students and return the 3 students closest to completing their study.\n",
    "2. If list is shorter than 3 raise your own custom exception (NotEnoughStudentsException)\n",
    "3. Create another function that can create a csv file with 3 students closest to completion\n",
    "   1. If an exception is raised write an appropriate message to the file\n",
    "\n",
    "## Ex 3 Plotting (extra)\n",
    "1. Create a function that can take a list of students and show a pie chart of how students are distributed in ECTS percentage categories (10%, 20%, ...)\n",
    "2. create a function that can take a list of students and show how many students have taken each course (bar chart)\n",
    "   1. create a method on student that can return a list of courses\n",
    "3. make the figure show males and females in different colors for each course (display 2 datasets in same figure)\n"
   ]
  },
  {
   "source": [
    "## 02 Status\n"
   ],
   "cell_type": "markdown",
   "metadata": {}
  },
  {
   "cell_type": "markdown",
   "metadata": {},
   "source": [
    "## Exercise 1\n"
   ]
  },
  {
   "source": [
    "### Excersie 1-6\n",
    "Create 3 classes: Student, DataSheet and Course\n",
    "A student has a data_sheet and a data_sheet has multiple courses in particular order\n",
    "Each course has name, classroom, teacher, ETCS and optional grade if course is taken.\n",
    "In Student create init() so that a Student can be initiated with name, gender, data_sheet and image_url\n",
    "In DataSheet create a method to get_grades_as_list()\n",
    "In student create a method: get_avg_grade()"
   ],
   "cell_type": "markdown",
   "metadata": {}
  },
  {
   "cell_type": "code",
   "execution_count": 84,
   "metadata": {},
   "outputs": [],
   "source": [
    "class Student():\n",
    "    \"\"\"A student representation, students have name, a student ID , gender, a datesheet and a image_url\"\"\"\n",
    "\n",
    "    def __init__(self, name, studentid, gender, datasheet, image_url=None):\n",
    "        \"\"\"Initialize name, student ID, gender, datasheet and image_url.\"\"\"\n",
    "        self.name = name \n",
    "        self.studentid = studentid\n",
    "        self.gender = gender\n",
    "        self.datasheet = datasheet\n",
    "        self.image_url = image_url        \n",
    "    \n",
    "    def __repr__(self):\n",
    "        return 'Student(%r, %r, %r, %r, %r)' % (self.name, self.gender, self.studentid, \n",
    "                                     self.datasheet, self.image_url)\n",
    "    \n",
    "    def __str__(self):\n",
    "        return 'Student with name {name} identifies as {gender} witd ID: {id}, studentpicture: {pic} his/her/their datasheet looks like this: {datasheet}.'.format(\n",
    "            name=self.name, gender=self.gender, id=self.studentid, pic=self.image_url, datasheet=self.datasheet)\n",
    "    \n",
    "    def get_avg_grade(self):\n",
    "        grades = self.datasheet.get_grades_as_list()\n",
    "        return sum(grades)/len(grades)\n",
    "    \n",
    "    def get_education_progress(self):\n",
    "        return (self.datasheet.get_completed_etcs()/150)*100\n",
    "\n",
    "class Datasheet():\n",
    "\n",
    "    def __init__(self, courses=[]):\n",
    "        \"\"\"A datasheet consists of multiple courses.\"\"\"\n",
    "        self.courses = courses\n",
    "        \n",
    "\n",
    "    def __repr__(self):\n",
    "        return 'Datasheet(%r' % (self.courses)\n",
    "\n",
    "    def get_grades_as_list(self):\n",
    "        returnlist = []\n",
    "        for course in self.courses:\n",
    "            returnlist.append(int(course.getGrade()))\n",
    "        return returnlist\n",
    "    \n",
    "     def get_completed_etcs(self):\n",
    "         for x in courses:\n",
    "             sum += x.etcs\n",
    "         return sum\n",
    "                \n",
    "class Course():\n",
    "    \"\"\"A course consist of name, classroom, teacher, ETCS and optional grade\"\"\"\n",
    "\n",
    "    def __init__(self, name, classroom, teacher, etcs, grade):\n",
    "        \"\"\"Initialize the course with name, classroom, teacher, ETCS and optional grade\"\"\"\n",
    "        self.name = name\n",
    "        self.classroom = classroom\n",
    "        self.teacher = teacher\n",
    "        self.etcs = etcs\n",
    "        self._grade = grade\n",
    "\n",
    "        \n",
    "    def __repr__(self):\n",
    "        return 'Course(%r, %r, %r, %r, %r)' % (self.name, self.classroom, self.teacher, self.etcs, self._grade)\n",
    "    \n",
    "    def __str__(self):\n",
    "        return 'Course name is {name} taking place in {classroom}, with the {teacher} as the teacher, it gives {etcs} etcs points and the student has the current grade of {grade}.'.format(\n",
    "            name=self.name, classroom=self.classroom, teacher=self.teacher, etcs=self.etcs, grade=self._grade)\n",
    "\n",
    "    def getGrade(self):\n",
    "        return self._grade\n"
   ]
  },
  {
   "cell_type": "code",
   "execution_count": 28,
   "metadata": {},
   "outputs": [
    {
     "output_type": "stream",
     "name": "stdout",
     "text": [
      "Student with name Allan Simonsen identifies as Male witd ID: cph-as484, studentpicture: handsomepicture.jpg his/her/their datasheet looks like this: Datasheet([Course('Python', '1.05', 'Thomas', 10, '12')].\n"
     ]
    }
   ],
   "source": [
    "testStudent = Student(\"Allan Simonsen\", \"cph-as484\", \"Male\", Datasheet([Course(\"Python\", \"1.05\", \"Thomas\", 10, \"12\")]), \"handsomepicture.jpg\")\n",
    "print(testStudent)"
   ]
  },
  {
   "source": [
    "### Excersise 7\n",
    "7. Create a function that can generate n number of students with random: name, gender, courses (from a fixed list of course names), grades, img_url\n",
    "   1. Let the function write the result to a csv file with format stud_name, course_name, teacher, ects, classroom, grade, img_url"
   ],
   "cell_type": "markdown",
   "metadata": {}
  },
  {
   "cell_type": "code",
   "execution_count": 29,
   "metadata": {},
   "outputs": [],
   "source": [
    "import random\n",
    "import csv\n",
    "\n",
    "fnames = [\"Allan\", \"Jacob\", \"Tobias\", \"Pia\", \"Axel\", \"Hans\", \"Thomas\", \"Lars\", \"Ulrik\", \"Caroline\", \"Louise\", \"Simonse\", \"Sylvia\", \"Kristian\", \"Andreas\", \"Anders\", \"Nina\", \"sofie\"]\n",
    "lnames = [\"Simonsen\", \"Holm\", \"Jensen\", \"Hansen\", \"Olsen\", \"Jakobsen\", \"Bjørnsen\", \"Iversen\", \"Elleman\", \"Klenum\", \"Lyft\"]\n",
    "genderlist = [\"Male\", \"Female\", \"Other\"]\n",
    "grades = [\"-3\", \"00\", \"02\", \"4\", \"7\", \"10\", \"12\"]\n",
    "coursenames = [\"Python\", \"Javascript\", \"Security\", \"IoT\", \"Advanced Programming\", \"Funktionel Programming\", \"Programming First Year\", \"Programming Second Year\"]\n",
    "\n",
    "def generateStudents(n):\n",
    "    \"\"\"a function that generates N amount of student with 3 courses each and returns a list\"\"\"\n",
    "    studentlist=[]\n",
    "    for i in range(n):\n",
    "        studentname = random.choice(fnames) + \" \" + random.choice(lnames)\n",
    "        studentid = \"cph-\" + str(random.randrange(111,999))\n",
    "        gender = random.choice(genderlist)\n",
    "        courses = []\n",
    "        for coursename in random.sample(coursenames, 3):\n",
    "            courses.append(Course(coursename, \"1.05\", random.choice(fnames), 10, random.choice(grades)))\n",
    "        image_url = \"picture\" + str(random.randrange(11111,99999)) + \".jpg\"\n",
    "\n",
    "        studentlist.append(Student(studentname, studentid, gender, Datasheet(courses),image_url))\n",
    "    return studentlist\n",
    "\n",
    "\n",
    "def write_list_to_csv(output_file, students):\n",
    "    with open(output_file, \"w\") as file_object:\n",
    "        csv_writer = csv.writer(file_object)\n",
    "        csv_writer.writerow([\"Student_name\", \"Studentid\" \"Gender\", \"Course_name\",\n",
    "                                \"Teacher\", \"ECTS\", \"Classroom\", \"Grade\", \"Img_url\"])\n",
    "        for x in students:\n",
    "            for course in x.datasheet.courses:\n",
    "                csv_writer.writerow([x.name, x.studentid, x.gender, course.name, course.teacher, course.etcs, course.classroom, course._grade, x.image_url])\n"
   ]
  },
  {
   "cell_type": "code",
   "execution_count": 66,
   "metadata": {},
   "outputs": [
    {
     "output_type": "stream",
     "name": "stdout",
     "text": [
      "[Student('Ulrik Jensen', 'Male', 'cph-877', Datasheet([Course('Programming Second Year', '1.05', 'Louise', 10, '-3'), Course('IoT', '1.05', 'Tobias', 10, '02'), Course('Programming First Year', '1.05', 'Lars', 10, '00')], 'picture19821.jpg'), Student('Lars Olsen', 'Male', 'cph-689', Datasheet([Course('Python', '1.05', 'Lars', 10, '10'), Course('Programming First Year', '1.05', 'Allan', 10, '12'), Course('Javascript', '1.05', 'Louise', 10, '00')], 'picture69301.jpg'), Student('Tobias Hansen', 'Male', 'cph-212', Datasheet([Course('Security', '1.05', 'Lars', 10, '4'), Course('Javascript', '1.05', 'Tobias', 10, '02'), Course('Programming First Year', '1.05', 'Andreas', 10, '-3')], 'picture80931.jpg'), Student('Tobias Klenum', 'Female', 'cph-240', Datasheet([Course('Security', '1.05', 'Tobias', 10, '10'), Course('Python', '1.05', 'Anders', 10, '12'), Course('IoT', '1.05', 'Pia', 10, '02')], 'picture79074.jpg'), Student('Thomas Jensen', 'Other', 'cph-683', Datasheet([Course('Advanced Programming', '1.05', 'Sylvia', 10, '02'), Course('Programming First Year', '1.05', 'sofie', 10, '10'), Course('Javascript', '1.05', 'Andreas', 10, '02')], 'picture25792.jpg')]\n"
     ]
    }
   ],
   "source": [
    "studentslisttest = generateStudents(5)\n",
    "output_file = \"week3modules/students.csv\"\n",
    "\n",
    "print(studentslisttest)\n",
    "write_list_to_csv(output_file, studentslisttest)"
   ]
  },
  {
   "source": [
    "### Exercise 8\n",
    "8. Read student data into a list of Students from a csv file: \n",
    "   1. loop through the list and print each student with name, img_url and avg_grade.\n",
    "   2. sort the list by avg_grade\n",
    "   3. create a bar chart with student_name on x and avg_grade on y-axis"
   ],
   "cell_type": "markdown",
   "metadata": {}
  },
  {
   "cell_type": "code",
   "execution_count": 93,
   "metadata": {},
   "outputs": [],
   "source": [
    "import csv\n",
    "def read_from_csvfile(inputfile):\n",
    "    student_list = []\n",
    "    with open(inputfile, \"r\") as file_object:\n",
    "        csvreader = csv.reader(file_object)\n",
    "        print(next(csvreader))\n",
    "        formerstudent = Student(\"\", \"\", \"\",[] , \"\")\n",
    "        for line in csvreader:\n",
    "            name, studentid, gender, course, teacher, etcs, classroom, grade, image_url = line\n",
    "            newstudent = Student(name, studentid, gender, Datasheet([Course(course, classroom, teacher, etcs, grade)]), image_url)\n",
    "            if newstudent.name == formerstudent.name:\n",
    "                formerstudent.datasheet.courses.append(Course(course, classroom, teacher, etcs, grade))\n",
    "            else:\n",
    "                student_list.append(newstudent)\n",
    "                formerstudent = newstudent\n",
    "    return student_list\n",
    "\n",
    "def taskA(inputlist):\n",
    "    printlist = []\n",
    "    for x in inputlist:\n",
    "        printlist.append([x.name, x.image_url, x.get_avg_grade()])\n",
    "    return printlist\n",
    "\n",
    "def taskB(inputlist):\n",
    "    printlist = []\n",
    "    for x in inputlist:\n",
    "        printlist.append([x.name, x.image_url, x.get_avg_grade()])\n",
    "    printlist.sort(key=lambda x: x[2], reverse=True)\n",
    "    return printlist\n"
   ]
  },
  {
   "cell_type": "code",
   "execution_count": 99,
   "metadata": {},
   "outputs": [
    {
     "output_type": "stream",
     "name": "stdout",
     "text": [
      "Testing CSV reader\n['Student_name', 'StudentidGender', 'Course_name', 'Teacher', 'ECTS', 'Classroom', 'Grade', 'Img_url']\nStudent with name Ulrik Jensen identifies as Male witd ID: cph-877, studentpicture: picture19821.jpg his/her/their datasheet looks like this: Datasheet([Course('Programming Second Year', '1.05', 'Louise', '10', '-3'), Course('IoT', '1.05', 'Tobias', '10', '02'), Course('Programming First Year', '1.05', 'Lars', '10', '00')].\nStudent with name Lars Olsen identifies as Male witd ID: cph-689, studentpicture: picture69301.jpg his/her/their datasheet looks like this: Datasheet([Course('Python', '1.05', 'Lars', '10', '10'), Course('Programming First Year', '1.05', 'Allan', '10', '12'), Course('Javascript', '1.05', 'Louise', '10', '00')].\nStudent with name Tobias Hansen identifies as Male witd ID: cph-212, studentpicture: picture80931.jpg his/her/their datasheet looks like this: Datasheet([Course('Security', '1.05', 'Lars', '10', '4'), Course('Javascript', '1.05', 'Tobias', '10', '02'), Course('Programming First Year', '1.05', 'Andreas', '10', '-3')].\nStudent with name Tobias Klenum identifies as Female witd ID: cph-240, studentpicture: picture79074.jpg his/her/their datasheet looks like this: Datasheet([Course('Security', '1.05', 'Tobias', '10', '10'), Course('Python', '1.05', 'Anders', '10', '12'), Course('IoT', '1.05', 'Pia', '10', '02')].\nStudent with name Thomas Jensen identifies as Other witd ID: cph-683, studentpicture: picture25792.jpg his/her/their datasheet looks like this: Datasheet([Course('Advanced Programming', '1.05', 'Sylvia', '10', '02'), Course('Programming First Year', '1.05', 'sofie', '10', '10'), Course('Javascript', '1.05', 'Andreas', '10', '02')].\nTask A\n['Ulrik Jensen', 'picture19821.jpg', -0.3333333333333333]\n['Lars Olsen', 'picture69301.jpg', 7.333333333333333]\n['Tobias Hansen', 'picture80931.jpg', 1.0]\n['Tobias Klenum', 'picture79074.jpg', 8.0]\n['Thomas Jensen', 'picture25792.jpg', 4.666666666666667]\nTask B\n['Tobias Klenum', 'picture79074.jpg', 8.0]\n['Lars Olsen', 'picture69301.jpg', 7.333333333333333]\n['Thomas Jensen', 'picture25792.jpg', 4.666666666666667]\n['Tobias Hansen', 'picture80931.jpg', 1.0]\n['Ulrik Jensen', 'picture19821.jpg', -0.3333333333333333]\nTask C\n"
     ]
    },
    {
     "output_type": "display_data",
     "data": {
      "text/plain": "<Figure size 432x288 with 1 Axes>",
      "image/svg+xml": "<?xml version=\"1.0\" encoding=\"utf-8\" standalone=\"no\"?>\n<!DOCTYPE svg PUBLIC \"-//W3C//DTD SVG 1.1//EN\"\n  \"http://www.w3.org/Graphics/SVG/1.1/DTD/svg11.dtd\">\n<!-- Created with matplotlib (https://matplotlib.org/) -->\n<svg height=\"277.314375pt\" version=\"1.1\" viewBox=\"0 0 376.240625 277.314375\" width=\"376.240625pt\" xmlns=\"http://www.w3.org/2000/svg\" xmlns:xlink=\"http://www.w3.org/1999/xlink\">\n <defs>\n  <style type=\"text/css\">\n*{stroke-linecap:butt;stroke-linejoin:round;}\n  </style>\n </defs>\n <g id=\"figure_1\">\n  <g id=\"patch_1\">\n   <path d=\"M 0 277.314375 \nL 376.240625 277.314375 \nL 376.240625 0 \nL 0 0 \nz\n\" style=\"fill:none;\"/>\n  </g>\n  <g id=\"axes_1\">\n   <g id=\"patch_2\">\n    <path d=\"M 34.240625 239.758125 \nL 369.040625 239.758125 \nL 369.040625 22.318125 \nL 34.240625 22.318125 \nz\n\" style=\"fill:#ffffff;\"/>\n   </g>\n   <g id=\"patch_3\">\n    <path clip-path=\"url(#p382ba1285f)\" d=\"M 49.458807 221.96758 \nL 100.18608 221.96758 \nL 100.18608 229.874489 \nL 49.458807 229.874489 \nz\n\" style=\"fill:#1f77b4;\"/>\n   </g>\n   <g id=\"patch_4\">\n    <path clip-path=\"url(#p382ba1285f)\" d=\"M 112.867898 221.96758 \nL 163.59517 221.96758 \nL 163.59517 48.01558 \nL 112.867898 48.01558 \nz\n\" style=\"fill:#1f77b4;\"/>\n   </g>\n   <g id=\"patch_5\">\n    <path clip-path=\"url(#p382ba1285f)\" d=\"M 176.276989 221.96758 \nL 227.004261 221.96758 \nL 227.004261 198.246852 \nL 176.276989 198.246852 \nz\n\" style=\"fill:#1f77b4;\"/>\n   </g>\n   <g id=\"patch_6\">\n    <path clip-path=\"url(#p382ba1285f)\" d=\"M 239.68608 221.96758 \nL 290.413352 221.96758 \nL 290.413352 32.201761 \nL 239.68608 32.201761 \nz\n\" style=\"fill:#1f77b4;\"/>\n   </g>\n   <g id=\"patch_7\">\n    <path clip-path=\"url(#p382ba1285f)\" d=\"M 303.09517 221.96758 \nL 353.822443 221.96758 \nL 353.822443 111.270852 \nL 303.09517 111.270852 \nz\n\" style=\"fill:#1f77b4;\"/>\n   </g>\n   <g id=\"matplotlib.axis_1\">\n    <g id=\"xtick_1\">\n     <g id=\"line2d_1\">\n      <defs>\n       <path d=\"M 0 0 \nL 0 3.5 \n\" id=\"m7d8fa99e56\" style=\"stroke:#000000;stroke-width:0.8;\"/>\n      </defs>\n      <g>\n       <use style=\"stroke:#000000;stroke-width:0.8;\" x=\"74.822443\" xlink:href=\"#m7d8fa99e56\" y=\"239.758125\"/>\n      </g>\n     </g>\n     <g id=\"text_1\">\n      <!-- Ulrik Jensen -->\n      <defs>\n       <path d=\"M 8.6875 72.90625 \nL 18.609375 72.90625 \nL 18.609375 28.609375 \nQ 18.609375 16.890625 22.84375 11.734375 \nQ 27.09375 6.59375 36.625 6.59375 \nQ 46.09375 6.59375 50.34375 11.734375 \nQ 54.59375 16.890625 54.59375 28.609375 \nL 54.59375 72.90625 \nL 64.5 72.90625 \nL 64.5 27.390625 \nQ 64.5 13.140625 57.4375 5.859375 \nQ 50.390625 -1.421875 36.625 -1.421875 \nQ 22.796875 -1.421875 15.734375 5.859375 \nQ 8.6875 13.140625 8.6875 27.390625 \nz\n\" id=\"DejaVuSans-85\"/>\n       <path d=\"M 9.421875 75.984375 \nL 18.40625 75.984375 \nL 18.40625 0 \nL 9.421875 0 \nz\n\" id=\"DejaVuSans-108\"/>\n       <path d=\"M 41.109375 46.296875 \nQ 39.59375 47.171875 37.8125 47.578125 \nQ 36.03125 48 33.890625 48 \nQ 26.265625 48 22.1875 43.046875 \nQ 18.109375 38.09375 18.109375 28.8125 \nL 18.109375 0 \nL 9.078125 0 \nL 9.078125 54.6875 \nL 18.109375 54.6875 \nL 18.109375 46.1875 \nQ 20.953125 51.171875 25.484375 53.578125 \nQ 30.03125 56 36.53125 56 \nQ 37.453125 56 38.578125 55.875 \nQ 39.703125 55.765625 41.0625 55.515625 \nz\n\" id=\"DejaVuSans-114\"/>\n       <path d=\"M 9.421875 54.6875 \nL 18.40625 54.6875 \nL 18.40625 0 \nL 9.421875 0 \nz\nM 9.421875 75.984375 \nL 18.40625 75.984375 \nL 18.40625 64.59375 \nL 9.421875 64.59375 \nz\n\" id=\"DejaVuSans-105\"/>\n       <path d=\"M 9.078125 75.984375 \nL 18.109375 75.984375 \nL 18.109375 31.109375 \nL 44.921875 54.6875 \nL 56.390625 54.6875 \nL 27.390625 29.109375 \nL 57.625 0 \nL 45.90625 0 \nL 18.109375 26.703125 \nL 18.109375 0 \nL 9.078125 0 \nz\n\" id=\"DejaVuSans-107\"/>\n       <path id=\"DejaVuSans-32\"/>\n       <path d=\"M 9.8125 72.90625 \nL 19.671875 72.90625 \nL 19.671875 5.078125 \nQ 19.671875 -8.109375 14.671875 -14.0625 \nQ 9.671875 -20.015625 -1.421875 -20.015625 \nL -5.171875 -20.015625 \nL -5.171875 -11.71875 \nL -2.09375 -11.71875 \nQ 4.4375 -11.71875 7.125 -8.046875 \nQ 9.8125 -4.390625 9.8125 5.078125 \nz\n\" id=\"DejaVuSans-74\"/>\n       <path d=\"M 56.203125 29.59375 \nL 56.203125 25.203125 \nL 14.890625 25.203125 \nQ 15.484375 15.921875 20.484375 11.0625 \nQ 25.484375 6.203125 34.421875 6.203125 \nQ 39.59375 6.203125 44.453125 7.46875 \nQ 49.3125 8.734375 54.109375 11.28125 \nL 54.109375 2.78125 \nQ 49.265625 0.734375 44.1875 -0.34375 \nQ 39.109375 -1.421875 33.890625 -1.421875 \nQ 20.796875 -1.421875 13.15625 6.1875 \nQ 5.515625 13.8125 5.515625 26.8125 \nQ 5.515625 40.234375 12.765625 48.109375 \nQ 20.015625 56 32.328125 56 \nQ 43.359375 56 49.78125 48.890625 \nQ 56.203125 41.796875 56.203125 29.59375 \nz\nM 47.21875 32.234375 \nQ 47.125 39.59375 43.09375 43.984375 \nQ 39.0625 48.390625 32.421875 48.390625 \nQ 24.90625 48.390625 20.390625 44.140625 \nQ 15.875 39.890625 15.1875 32.171875 \nz\n\" id=\"DejaVuSans-101\"/>\n       <path d=\"M 54.890625 33.015625 \nL 54.890625 0 \nL 45.90625 0 \nL 45.90625 32.71875 \nQ 45.90625 40.484375 42.875 44.328125 \nQ 39.84375 48.1875 33.796875 48.1875 \nQ 26.515625 48.1875 22.3125 43.546875 \nQ 18.109375 38.921875 18.109375 30.90625 \nL 18.109375 0 \nL 9.078125 0 \nL 9.078125 54.6875 \nL 18.109375 54.6875 \nL 18.109375 46.1875 \nQ 21.34375 51.125 25.703125 53.5625 \nQ 30.078125 56 35.796875 56 \nQ 45.21875 56 50.046875 50.171875 \nQ 54.890625 44.34375 54.890625 33.015625 \nz\n\" id=\"DejaVuSans-110\"/>\n       <path d=\"M 44.28125 53.078125 \nL 44.28125 44.578125 \nQ 40.484375 46.53125 36.375 47.5 \nQ 32.28125 48.484375 27.875 48.484375 \nQ 21.1875 48.484375 17.84375 46.4375 \nQ 14.5 44.390625 14.5 40.28125 \nQ 14.5 37.15625 16.890625 35.375 \nQ 19.28125 33.59375 26.515625 31.984375 \nL 29.59375 31.296875 \nQ 39.15625 29.25 43.1875 25.515625 \nQ 47.21875 21.78125 47.21875 15.09375 \nQ 47.21875 7.46875 41.1875 3.015625 \nQ 35.15625 -1.421875 24.609375 -1.421875 \nQ 20.21875 -1.421875 15.453125 -0.5625 \nQ 10.6875 0.296875 5.421875 2 \nL 5.421875 11.28125 \nQ 10.40625 8.6875 15.234375 7.390625 \nQ 20.0625 6.109375 24.8125 6.109375 \nQ 31.15625 6.109375 34.5625 8.28125 \nQ 37.984375 10.453125 37.984375 14.40625 \nQ 37.984375 18.0625 35.515625 20.015625 \nQ 33.0625 21.96875 24.703125 23.78125 \nL 21.578125 24.515625 \nQ 13.234375 26.265625 9.515625 29.90625 \nQ 5.8125 33.546875 5.8125 39.890625 \nQ 5.8125 47.609375 11.28125 51.796875 \nQ 16.75 56 26.8125 56 \nQ 31.78125 56 36.171875 55.265625 \nQ 40.578125 54.546875 44.28125 53.078125 \nz\n\" id=\"DejaVuSans-115\"/>\n      </defs>\n      <g transform=\"translate(45.274787 254.356562)scale(0.1 -0.1)\">\n       <use xlink:href=\"#DejaVuSans-85\"/>\n       <use x=\"73.193359\" xlink:href=\"#DejaVuSans-108\"/>\n       <use x=\"100.976562\" xlink:href=\"#DejaVuSans-114\"/>\n       <use x=\"142.089844\" xlink:href=\"#DejaVuSans-105\"/>\n       <use x=\"169.873047\" xlink:href=\"#DejaVuSans-107\"/>\n       <use x=\"227.783203\" xlink:href=\"#DejaVuSans-32\"/>\n       <use x=\"259.570312\" xlink:href=\"#DejaVuSans-74\"/>\n       <use x=\"289.0625\" xlink:href=\"#DejaVuSans-101\"/>\n       <use x=\"350.585938\" xlink:href=\"#DejaVuSans-110\"/>\n       <use x=\"413.964844\" xlink:href=\"#DejaVuSans-115\"/>\n       <use x=\"466.064453\" xlink:href=\"#DejaVuSans-101\"/>\n       <use x=\"527.587891\" xlink:href=\"#DejaVuSans-110\"/>\n      </g>\n     </g>\n    </g>\n    <g id=\"xtick_2\">\n     <g id=\"line2d_2\">\n      <g>\n       <use style=\"stroke:#000000;stroke-width:0.8;\" x=\"138.231534\" xlink:href=\"#m7d8fa99e56\" y=\"239.758125\"/>\n      </g>\n     </g>\n     <g id=\"text_2\">\n      <!-- Lars Olsen -->\n      <defs>\n       <path d=\"M 9.8125 72.90625 \nL 19.671875 72.90625 \nL 19.671875 8.296875 \nL 55.171875 8.296875 \nL 55.171875 0 \nL 9.8125 0 \nz\n\" id=\"DejaVuSans-76\"/>\n       <path d=\"M 34.28125 27.484375 \nQ 23.390625 27.484375 19.1875 25 \nQ 14.984375 22.515625 14.984375 16.5 \nQ 14.984375 11.71875 18.140625 8.90625 \nQ 21.296875 6.109375 26.703125 6.109375 \nQ 34.1875 6.109375 38.703125 11.40625 \nQ 43.21875 16.703125 43.21875 25.484375 \nL 43.21875 27.484375 \nz\nM 52.203125 31.203125 \nL 52.203125 0 \nL 43.21875 0 \nL 43.21875 8.296875 \nQ 40.140625 3.328125 35.546875 0.953125 \nQ 30.953125 -1.421875 24.3125 -1.421875 \nQ 15.921875 -1.421875 10.953125 3.296875 \nQ 6 8.015625 6 15.921875 \nQ 6 25.140625 12.171875 29.828125 \nQ 18.359375 34.515625 30.609375 34.515625 \nL 43.21875 34.515625 \nL 43.21875 35.40625 \nQ 43.21875 41.609375 39.140625 45 \nQ 35.0625 48.390625 27.6875 48.390625 \nQ 23 48.390625 18.546875 47.265625 \nQ 14.109375 46.140625 10.015625 43.890625 \nL 10.015625 52.203125 \nQ 14.9375 54.109375 19.578125 55.046875 \nQ 24.21875 56 28.609375 56 \nQ 40.484375 56 46.34375 49.84375 \nQ 52.203125 43.703125 52.203125 31.203125 \nz\n\" id=\"DejaVuSans-97\"/>\n       <path d=\"M 39.40625 66.21875 \nQ 28.65625 66.21875 22.328125 58.203125 \nQ 16.015625 50.203125 16.015625 36.375 \nQ 16.015625 22.609375 22.328125 14.59375 \nQ 28.65625 6.59375 39.40625 6.59375 \nQ 50.140625 6.59375 56.421875 14.59375 \nQ 62.703125 22.609375 62.703125 36.375 \nQ 62.703125 50.203125 56.421875 58.203125 \nQ 50.140625 66.21875 39.40625 66.21875 \nz\nM 39.40625 74.21875 \nQ 54.734375 74.21875 63.90625 63.9375 \nQ 73.09375 53.65625 73.09375 36.375 \nQ 73.09375 19.140625 63.90625 8.859375 \nQ 54.734375 -1.421875 39.40625 -1.421875 \nQ 24.03125 -1.421875 14.8125 8.828125 \nQ 5.609375 19.09375 5.609375 36.375 \nQ 5.609375 53.65625 14.8125 63.9375 \nQ 24.03125 74.21875 39.40625 74.21875 \nz\n\" id=\"DejaVuSans-79\"/>\n      </defs>\n      <g transform=\"translate(111.957315 254.356562)scale(0.1 -0.1)\">\n       <use xlink:href=\"#DejaVuSans-76\"/>\n       <use x=\"55.712891\" xlink:href=\"#DejaVuSans-97\"/>\n       <use x=\"116.992188\" xlink:href=\"#DejaVuSans-114\"/>\n       <use x=\"158.105469\" xlink:href=\"#DejaVuSans-115\"/>\n       <use x=\"210.205078\" xlink:href=\"#DejaVuSans-32\"/>\n       <use x=\"241.992188\" xlink:href=\"#DejaVuSans-79\"/>\n       <use x=\"320.703125\" xlink:href=\"#DejaVuSans-108\"/>\n       <use x=\"348.486328\" xlink:href=\"#DejaVuSans-115\"/>\n       <use x=\"400.585938\" xlink:href=\"#DejaVuSans-101\"/>\n       <use x=\"462.109375\" xlink:href=\"#DejaVuSans-110\"/>\n      </g>\n     </g>\n    </g>\n    <g id=\"xtick_3\">\n     <g id=\"line2d_3\">\n      <g>\n       <use style=\"stroke:#000000;stroke-width:0.8;\" x=\"201.640625\" xlink:href=\"#m7d8fa99e56\" y=\"239.758125\"/>\n      </g>\n     </g>\n     <g id=\"text_3\">\n      <!-- Tobias Hansen -->\n      <defs>\n       <path d=\"M -0.296875 72.90625 \nL 61.375 72.90625 \nL 61.375 64.59375 \nL 35.5 64.59375 \nL 35.5 0 \nL 25.59375 0 \nL 25.59375 64.59375 \nL -0.296875 64.59375 \nz\n\" id=\"DejaVuSans-84\"/>\n       <path d=\"M 30.609375 48.390625 \nQ 23.390625 48.390625 19.1875 42.75 \nQ 14.984375 37.109375 14.984375 27.296875 \nQ 14.984375 17.484375 19.15625 11.84375 \nQ 23.34375 6.203125 30.609375 6.203125 \nQ 37.796875 6.203125 41.984375 11.859375 \nQ 46.1875 17.53125 46.1875 27.296875 \nQ 46.1875 37.015625 41.984375 42.703125 \nQ 37.796875 48.390625 30.609375 48.390625 \nz\nM 30.609375 56 \nQ 42.328125 56 49.015625 48.375 \nQ 55.71875 40.765625 55.71875 27.296875 \nQ 55.71875 13.875 49.015625 6.21875 \nQ 42.328125 -1.421875 30.609375 -1.421875 \nQ 18.84375 -1.421875 12.171875 6.21875 \nQ 5.515625 13.875 5.515625 27.296875 \nQ 5.515625 40.765625 12.171875 48.375 \nQ 18.84375 56 30.609375 56 \nz\n\" id=\"DejaVuSans-111\"/>\n       <path d=\"M 48.6875 27.296875 \nQ 48.6875 37.203125 44.609375 42.84375 \nQ 40.53125 48.484375 33.40625 48.484375 \nQ 26.265625 48.484375 22.1875 42.84375 \nQ 18.109375 37.203125 18.109375 27.296875 \nQ 18.109375 17.390625 22.1875 11.75 \nQ 26.265625 6.109375 33.40625 6.109375 \nQ 40.53125 6.109375 44.609375 11.75 \nQ 48.6875 17.390625 48.6875 27.296875 \nz\nM 18.109375 46.390625 \nQ 20.953125 51.265625 25.265625 53.625 \nQ 29.59375 56 35.59375 56 \nQ 45.5625 56 51.78125 48.09375 \nQ 58.015625 40.1875 58.015625 27.296875 \nQ 58.015625 14.40625 51.78125 6.484375 \nQ 45.5625 -1.421875 35.59375 -1.421875 \nQ 29.59375 -1.421875 25.265625 0.953125 \nQ 20.953125 3.328125 18.109375 8.203125 \nL 18.109375 0 \nL 9.078125 0 \nL 9.078125 75.984375 \nL 18.109375 75.984375 \nz\n\" id=\"DejaVuSans-98\"/>\n       <path d=\"M 9.8125 72.90625 \nL 19.671875 72.90625 \nL 19.671875 43.015625 \nL 55.515625 43.015625 \nL 55.515625 72.90625 \nL 65.375 72.90625 \nL 65.375 0 \nL 55.515625 0 \nL 55.515625 34.71875 \nL 19.671875 34.71875 \nL 19.671875 0 \nL 9.8125 0 \nz\n\" id=\"DejaVuSans-72\"/>\n      </defs>\n      <g transform=\"translate(165.713281 254.356562)scale(0.1 -0.1)\">\n       <use xlink:href=\"#DejaVuSans-84\"/>\n       <use x=\"44.083984\" xlink:href=\"#DejaVuSans-111\"/>\n       <use x=\"105.265625\" xlink:href=\"#DejaVuSans-98\"/>\n       <use x=\"168.742188\" xlink:href=\"#DejaVuSans-105\"/>\n       <use x=\"196.525391\" xlink:href=\"#DejaVuSans-97\"/>\n       <use x=\"257.804688\" xlink:href=\"#DejaVuSans-115\"/>\n       <use x=\"309.904297\" xlink:href=\"#DejaVuSans-32\"/>\n       <use x=\"341.691406\" xlink:href=\"#DejaVuSans-72\"/>\n       <use x=\"416.886719\" xlink:href=\"#DejaVuSans-97\"/>\n       <use x=\"478.166016\" xlink:href=\"#DejaVuSans-110\"/>\n       <use x=\"541.544922\" xlink:href=\"#DejaVuSans-115\"/>\n       <use x=\"593.644531\" xlink:href=\"#DejaVuSans-101\"/>\n       <use x=\"655.167969\" xlink:href=\"#DejaVuSans-110\"/>\n      </g>\n     </g>\n    </g>\n    <g id=\"xtick_4\">\n     <g id=\"line2d_4\">\n      <g>\n       <use style=\"stroke:#000000;stroke-width:0.8;\" x=\"265.049716\" xlink:href=\"#m7d8fa99e56\" y=\"239.758125\"/>\n      </g>\n     </g>\n     <g id=\"text_4\">\n      <!-- Tobias Klenum -->\n      <defs>\n       <path d=\"M 9.8125 72.90625 \nL 19.671875 72.90625 \nL 19.671875 42.09375 \nL 52.390625 72.90625 \nL 65.09375 72.90625 \nL 28.90625 38.921875 \nL 67.671875 0 \nL 54.6875 0 \nL 19.671875 35.109375 \nL 19.671875 0 \nL 9.8125 0 \nz\n\" id=\"DejaVuSans-75\"/>\n       <path d=\"M 8.5 21.578125 \nL 8.5 54.6875 \nL 17.484375 54.6875 \nL 17.484375 21.921875 \nQ 17.484375 14.15625 20.5 10.265625 \nQ 23.53125 6.390625 29.59375 6.390625 \nQ 36.859375 6.390625 41.078125 11.03125 \nQ 45.3125 15.671875 45.3125 23.6875 \nL 45.3125 54.6875 \nL 54.296875 54.6875 \nL 54.296875 0 \nL 45.3125 0 \nL 45.3125 8.40625 \nQ 42.046875 3.421875 37.71875 1 \nQ 33.40625 -1.421875 27.6875 -1.421875 \nQ 18.265625 -1.421875 13.375 4.4375 \nQ 8.5 10.296875 8.5 21.578125 \nz\nM 31.109375 56 \nz\n\" id=\"DejaVuSans-117\"/>\n       <path d=\"M 52 44.1875 \nQ 55.375 50.25 60.0625 53.125 \nQ 64.75 56 71.09375 56 \nQ 79.640625 56 84.28125 50.015625 \nQ 88.921875 44.046875 88.921875 33.015625 \nL 88.921875 0 \nL 79.890625 0 \nL 79.890625 32.71875 \nQ 79.890625 40.578125 77.09375 44.375 \nQ 74.3125 48.1875 68.609375 48.1875 \nQ 61.625 48.1875 57.5625 43.546875 \nQ 53.515625 38.921875 53.515625 30.90625 \nL 53.515625 0 \nL 44.484375 0 \nL 44.484375 32.71875 \nQ 44.484375 40.625 41.703125 44.40625 \nQ 38.921875 48.1875 33.109375 48.1875 \nQ 26.21875 48.1875 22.15625 43.53125 \nQ 18.109375 38.875 18.109375 30.90625 \nL 18.109375 0 \nL 9.078125 0 \nL 9.078125 54.6875 \nL 18.109375 54.6875 \nL 18.109375 46.1875 \nQ 21.1875 51.21875 25.484375 53.609375 \nQ 29.78125 56 35.6875 56 \nQ 41.65625 56 45.828125 52.96875 \nQ 50 49.953125 52 44.1875 \nz\n\" id=\"DejaVuSans-109\"/>\n      </defs>\n      <g transform=\"translate(229.012997 254.356562)scale(0.1 -0.1)\">\n       <use xlink:href=\"#DejaVuSans-84\"/>\n       <use x=\"44.083984\" xlink:href=\"#DejaVuSans-111\"/>\n       <use x=\"105.265625\" xlink:href=\"#DejaVuSans-98\"/>\n       <use x=\"168.742188\" xlink:href=\"#DejaVuSans-105\"/>\n       <use x=\"196.525391\" xlink:href=\"#DejaVuSans-97\"/>\n       <use x=\"257.804688\" xlink:href=\"#DejaVuSans-115\"/>\n       <use x=\"309.904297\" xlink:href=\"#DejaVuSans-32\"/>\n       <use x=\"341.691406\" xlink:href=\"#DejaVuSans-75\"/>\n       <use x=\"407.267578\" xlink:href=\"#DejaVuSans-108\"/>\n       <use x=\"435.050781\" xlink:href=\"#DejaVuSans-101\"/>\n       <use x=\"496.574219\" xlink:href=\"#DejaVuSans-110\"/>\n       <use x=\"559.953125\" xlink:href=\"#DejaVuSans-117\"/>\n       <use x=\"623.332031\" xlink:href=\"#DejaVuSans-109\"/>\n      </g>\n     </g>\n    </g>\n    <g id=\"xtick_5\">\n     <g id=\"line2d_5\">\n      <g>\n       <use style=\"stroke:#000000;stroke-width:0.8;\" x=\"328.458807\" xlink:href=\"#m7d8fa99e56\" y=\"239.758125\"/>\n      </g>\n     </g>\n     <g id=\"text_5\">\n      <!-- Thomas Jensen -->\n      <defs>\n       <path d=\"M 54.890625 33.015625 \nL 54.890625 0 \nL 45.90625 0 \nL 45.90625 32.71875 \nQ 45.90625 40.484375 42.875 44.328125 \nQ 39.84375 48.1875 33.796875 48.1875 \nQ 26.515625 48.1875 22.3125 43.546875 \nQ 18.109375 38.921875 18.109375 30.90625 \nL 18.109375 0 \nL 9.078125 0 \nL 9.078125 75.984375 \nL 18.109375 75.984375 \nL 18.109375 46.1875 \nQ 21.34375 51.125 25.703125 53.5625 \nQ 30.078125 56 35.796875 56 \nQ 45.21875 56 50.046875 50.171875 \nQ 54.890625 44.34375 54.890625 33.015625 \nz\n\" id=\"DejaVuSans-104\"/>\n      </defs>\n      <g transform=\"translate(290.478338 254.356562)scale(0.1 -0.1)\">\n       <use xlink:href=\"#DejaVuSans-84\"/>\n       <use x=\"61.083984\" xlink:href=\"#DejaVuSans-104\"/>\n       <use x=\"124.462891\" xlink:href=\"#DejaVuSans-111\"/>\n       <use x=\"185.644531\" xlink:href=\"#DejaVuSans-109\"/>\n       <use x=\"283.056641\" xlink:href=\"#DejaVuSans-97\"/>\n       <use x=\"344.335938\" xlink:href=\"#DejaVuSans-115\"/>\n       <use x=\"396.435547\" xlink:href=\"#DejaVuSans-32\"/>\n       <use x=\"428.222656\" xlink:href=\"#DejaVuSans-74\"/>\n       <use x=\"457.714844\" xlink:href=\"#DejaVuSans-101\"/>\n       <use x=\"519.238281\" xlink:href=\"#DejaVuSans-110\"/>\n       <use x=\"582.617188\" xlink:href=\"#DejaVuSans-115\"/>\n       <use x=\"634.716797\" xlink:href=\"#DejaVuSans-101\"/>\n       <use x=\"696.240234\" xlink:href=\"#DejaVuSans-110\"/>\n      </g>\n     </g>\n    </g>\n    <g id=\"text_6\">\n     <!-- student -->\n     <defs>\n      <path d=\"M 18.3125 70.21875 \nL 18.3125 54.6875 \nL 36.8125 54.6875 \nL 36.8125 47.703125 \nL 18.3125 47.703125 \nL 18.3125 18.015625 \nQ 18.3125 11.328125 20.140625 9.421875 \nQ 21.96875 7.515625 27.59375 7.515625 \nL 36.8125 7.515625 \nL 36.8125 0 \nL 27.59375 0 \nQ 17.1875 0 13.234375 3.875 \nQ 9.28125 7.765625 9.28125 18.015625 \nL 9.28125 47.703125 \nL 2.6875 47.703125 \nL 2.6875 54.6875 \nL 9.28125 54.6875 \nL 9.28125 70.21875 \nz\n\" id=\"DejaVuSans-116\"/>\n      <path d=\"M 45.40625 46.390625 \nL 45.40625 75.984375 \nL 54.390625 75.984375 \nL 54.390625 0 \nL 45.40625 0 \nL 45.40625 8.203125 \nQ 42.578125 3.328125 38.25 0.953125 \nQ 33.9375 -1.421875 27.875 -1.421875 \nQ 17.96875 -1.421875 11.734375 6.484375 \nQ 5.515625 14.40625 5.515625 27.296875 \nQ 5.515625 40.1875 11.734375 48.09375 \nQ 17.96875 56 27.875 56 \nQ 33.9375 56 38.25 53.625 \nQ 42.578125 51.265625 45.40625 46.390625 \nz\nM 14.796875 27.296875 \nQ 14.796875 17.390625 18.875 11.75 \nQ 22.953125 6.109375 30.078125 6.109375 \nQ 37.203125 6.109375 41.296875 11.75 \nQ 45.40625 17.390625 45.40625 27.296875 \nQ 45.40625 37.203125 41.296875 42.84375 \nQ 37.203125 48.484375 30.078125 48.484375 \nQ 22.953125 48.484375 18.875 42.84375 \nQ 14.796875 37.203125 14.796875 27.296875 \nz\n\" id=\"DejaVuSans-100\"/>\n     </defs>\n     <g transform=\"translate(182.527344 268.034687)scale(0.1 -0.1)\">\n      <use xlink:href=\"#DejaVuSans-115\"/>\n      <use x=\"52.099609\" xlink:href=\"#DejaVuSans-116\"/>\n      <use x=\"91.308594\" xlink:href=\"#DejaVuSans-117\"/>\n      <use x=\"154.6875\" xlink:href=\"#DejaVuSans-100\"/>\n      <use x=\"218.164062\" xlink:href=\"#DejaVuSans-101\"/>\n      <use x=\"279.6875\" xlink:href=\"#DejaVuSans-110\"/>\n      <use x=\"343.066406\" xlink:href=\"#DejaVuSans-116\"/>\n     </g>\n    </g>\n   </g>\n   <g id=\"matplotlib.axis_2\">\n    <g id=\"ytick_1\">\n     <g id=\"line2d_6\">\n      <defs>\n       <path d=\"M 0 0 \nL -3.5 0 \n\" id=\"m78bc75e1f1\" style=\"stroke:#000000;stroke-width:0.8;\"/>\n      </defs>\n      <g>\n       <use style=\"stroke:#000000;stroke-width:0.8;\" x=\"34.240625\" xlink:href=\"#m78bc75e1f1\" y=\"221.96758\"/>\n      </g>\n     </g>\n     <g id=\"text_7\">\n      <!-- 0 -->\n      <defs>\n       <path d=\"M 31.78125 66.40625 \nQ 24.171875 66.40625 20.328125 58.90625 \nQ 16.5 51.421875 16.5 36.375 \nQ 16.5 21.390625 20.328125 13.890625 \nQ 24.171875 6.390625 31.78125 6.390625 \nQ 39.453125 6.390625 43.28125 13.890625 \nQ 47.125 21.390625 47.125 36.375 \nQ 47.125 51.421875 43.28125 58.90625 \nQ 39.453125 66.40625 31.78125 66.40625 \nz\nM 31.78125 74.21875 \nQ 44.046875 74.21875 50.515625 64.515625 \nQ 56.984375 54.828125 56.984375 36.375 \nQ 56.984375 17.96875 50.515625 8.265625 \nQ 44.046875 -1.421875 31.78125 -1.421875 \nQ 19.53125 -1.421875 13.0625 8.265625 \nQ 6.59375 17.96875 6.59375 36.375 \nQ 6.59375 54.828125 13.0625 64.515625 \nQ 19.53125 74.21875 31.78125 74.21875 \nz\n\" id=\"DejaVuSans-48\"/>\n      </defs>\n      <g transform=\"translate(20.878125 225.766798)scale(0.1 -0.1)\">\n       <use xlink:href=\"#DejaVuSans-48\"/>\n      </g>\n     </g>\n    </g>\n    <g id=\"ytick_2\">\n     <g id=\"line2d_7\">\n      <g>\n       <use style=\"stroke:#000000;stroke-width:0.8;\" x=\"34.240625\" xlink:href=\"#m78bc75e1f1\" y=\"174.526125\"/>\n      </g>\n     </g>\n     <g id=\"text_8\">\n      <!-- 2 -->\n      <defs>\n       <path d=\"M 19.1875 8.296875 \nL 53.609375 8.296875 \nL 53.609375 0 \nL 7.328125 0 \nL 7.328125 8.296875 \nQ 12.9375 14.109375 22.625 23.890625 \nQ 32.328125 33.6875 34.8125 36.53125 \nQ 39.546875 41.84375 41.421875 45.53125 \nQ 43.3125 49.21875 43.3125 52.78125 \nQ 43.3125 58.59375 39.234375 62.25 \nQ 35.15625 65.921875 28.609375 65.921875 \nQ 23.96875 65.921875 18.8125 64.3125 \nQ 13.671875 62.703125 7.8125 59.421875 \nL 7.8125 69.390625 \nQ 13.765625 71.78125 18.9375 73 \nQ 24.125 74.21875 28.421875 74.21875 \nQ 39.75 74.21875 46.484375 68.546875 \nQ 53.21875 62.890625 53.21875 53.421875 \nQ 53.21875 48.921875 51.53125 44.890625 \nQ 49.859375 40.875 45.40625 35.40625 \nQ 44.1875 33.984375 37.640625 27.21875 \nQ 31.109375 20.453125 19.1875 8.296875 \nz\n\" id=\"DejaVuSans-50\"/>\n      </defs>\n      <g transform=\"translate(20.878125 178.325344)scale(0.1 -0.1)\">\n       <use xlink:href=\"#DejaVuSans-50\"/>\n      </g>\n     </g>\n    </g>\n    <g id=\"ytick_3\">\n     <g id=\"line2d_8\">\n      <g>\n       <use style=\"stroke:#000000;stroke-width:0.8;\" x=\"34.240625\" xlink:href=\"#m78bc75e1f1\" y=\"127.08467\"/>\n      </g>\n     </g>\n     <g id=\"text_9\">\n      <!-- 4 -->\n      <defs>\n       <path d=\"M 37.796875 64.3125 \nL 12.890625 25.390625 \nL 37.796875 25.390625 \nz\nM 35.203125 72.90625 \nL 47.609375 72.90625 \nL 47.609375 25.390625 \nL 58.015625 25.390625 \nL 58.015625 17.1875 \nL 47.609375 17.1875 \nL 47.609375 0 \nL 37.796875 0 \nL 37.796875 17.1875 \nL 4.890625 17.1875 \nL 4.890625 26.703125 \nz\n\" id=\"DejaVuSans-52\"/>\n      </defs>\n      <g transform=\"translate(20.878125 130.883889)scale(0.1 -0.1)\">\n       <use xlink:href=\"#DejaVuSans-52\"/>\n      </g>\n     </g>\n    </g>\n    <g id=\"ytick_4\">\n     <g id=\"line2d_9\">\n      <g>\n       <use style=\"stroke:#000000;stroke-width:0.8;\" x=\"34.240625\" xlink:href=\"#m78bc75e1f1\" y=\"79.643216\"/>\n      </g>\n     </g>\n     <g id=\"text_10\">\n      <!-- 6 -->\n      <defs>\n       <path d=\"M 33.015625 40.375 \nQ 26.375 40.375 22.484375 35.828125 \nQ 18.609375 31.296875 18.609375 23.390625 \nQ 18.609375 15.53125 22.484375 10.953125 \nQ 26.375 6.390625 33.015625 6.390625 \nQ 39.65625 6.390625 43.53125 10.953125 \nQ 47.40625 15.53125 47.40625 23.390625 \nQ 47.40625 31.296875 43.53125 35.828125 \nQ 39.65625 40.375 33.015625 40.375 \nz\nM 52.59375 71.296875 \nL 52.59375 62.3125 \nQ 48.875 64.0625 45.09375 64.984375 \nQ 41.3125 65.921875 37.59375 65.921875 \nQ 27.828125 65.921875 22.671875 59.328125 \nQ 17.53125 52.734375 16.796875 39.40625 \nQ 19.671875 43.65625 24.015625 45.921875 \nQ 28.375 48.1875 33.59375 48.1875 \nQ 44.578125 48.1875 50.953125 41.515625 \nQ 57.328125 34.859375 57.328125 23.390625 \nQ 57.328125 12.15625 50.6875 5.359375 \nQ 44.046875 -1.421875 33.015625 -1.421875 \nQ 20.359375 -1.421875 13.671875 8.265625 \nQ 6.984375 17.96875 6.984375 36.375 \nQ 6.984375 53.65625 15.1875 63.9375 \nQ 23.390625 74.21875 37.203125 74.21875 \nQ 40.921875 74.21875 44.703125 73.484375 \nQ 48.484375 72.75 52.59375 71.296875 \nz\n\" id=\"DejaVuSans-54\"/>\n      </defs>\n      <g transform=\"translate(20.878125 83.442435)scale(0.1 -0.1)\">\n       <use xlink:href=\"#DejaVuSans-54\"/>\n      </g>\n     </g>\n    </g>\n    <g id=\"ytick_5\">\n     <g id=\"line2d_10\">\n      <g>\n       <use style=\"stroke:#000000;stroke-width:0.8;\" x=\"34.240625\" xlink:href=\"#m78bc75e1f1\" y=\"32.201761\"/>\n      </g>\n     </g>\n     <g id=\"text_11\">\n      <!-- 8 -->\n      <defs>\n       <path d=\"M 31.78125 34.625 \nQ 24.75 34.625 20.71875 30.859375 \nQ 16.703125 27.09375 16.703125 20.515625 \nQ 16.703125 13.921875 20.71875 10.15625 \nQ 24.75 6.390625 31.78125 6.390625 \nQ 38.8125 6.390625 42.859375 10.171875 \nQ 46.921875 13.96875 46.921875 20.515625 \nQ 46.921875 27.09375 42.890625 30.859375 \nQ 38.875 34.625 31.78125 34.625 \nz\nM 21.921875 38.8125 \nQ 15.578125 40.375 12.03125 44.71875 \nQ 8.5 49.078125 8.5 55.328125 \nQ 8.5 64.0625 14.71875 69.140625 \nQ 20.953125 74.21875 31.78125 74.21875 \nQ 42.671875 74.21875 48.875 69.140625 \nQ 55.078125 64.0625 55.078125 55.328125 \nQ 55.078125 49.078125 51.53125 44.71875 \nQ 48 40.375 41.703125 38.8125 \nQ 48.828125 37.15625 52.796875 32.3125 \nQ 56.78125 27.484375 56.78125 20.515625 \nQ 56.78125 9.90625 50.3125 4.234375 \nQ 43.84375 -1.421875 31.78125 -1.421875 \nQ 19.734375 -1.421875 13.25 4.234375 \nQ 6.78125 9.90625 6.78125 20.515625 \nQ 6.78125 27.484375 10.78125 32.3125 \nQ 14.796875 37.15625 21.921875 38.8125 \nz\nM 18.3125 54.390625 \nQ 18.3125 48.734375 21.84375 45.5625 \nQ 25.390625 42.390625 31.78125 42.390625 \nQ 38.140625 42.390625 41.71875 45.5625 \nQ 45.3125 48.734375 45.3125 54.390625 \nQ 45.3125 60.0625 41.71875 63.234375 \nQ 38.140625 66.40625 31.78125 66.40625 \nQ 25.390625 66.40625 21.84375 63.234375 \nQ 18.3125 60.0625 18.3125 54.390625 \nz\n\" id=\"DejaVuSans-56\"/>\n      </defs>\n      <g transform=\"translate(20.878125 36.00098)scale(0.1 -0.1)\">\n       <use xlink:href=\"#DejaVuSans-56\"/>\n      </g>\n     </g>\n    </g>\n    <g id=\"text_12\">\n     <!-- Avg grade -->\n     <defs>\n      <path d=\"M 34.1875 63.1875 \nL 20.796875 26.90625 \nL 47.609375 26.90625 \nz\nM 28.609375 72.90625 \nL 39.796875 72.90625 \nL 67.578125 0 \nL 57.328125 0 \nL 50.6875 18.703125 \nL 17.828125 18.703125 \nL 11.1875 0 \nL 0.78125 0 \nz\n\" id=\"DejaVuSans-65\"/>\n      <path d=\"M 2.984375 54.6875 \nL 12.5 54.6875 \nL 29.59375 8.796875 \nL 46.6875 54.6875 \nL 56.203125 54.6875 \nL 35.6875 0 \nL 23.484375 0 \nz\n\" id=\"DejaVuSans-118\"/>\n      <path d=\"M 45.40625 27.984375 \nQ 45.40625 37.75 41.375 43.109375 \nQ 37.359375 48.484375 30.078125 48.484375 \nQ 22.859375 48.484375 18.828125 43.109375 \nQ 14.796875 37.75 14.796875 27.984375 \nQ 14.796875 18.265625 18.828125 12.890625 \nQ 22.859375 7.515625 30.078125 7.515625 \nQ 37.359375 7.515625 41.375 12.890625 \nQ 45.40625 18.265625 45.40625 27.984375 \nz\nM 54.390625 6.78125 \nQ 54.390625 -7.171875 48.1875 -13.984375 \nQ 42 -20.796875 29.203125 -20.796875 \nQ 24.46875 -20.796875 20.265625 -20.09375 \nQ 16.0625 -19.390625 12.109375 -17.921875 \nL 12.109375 -9.1875 \nQ 16.0625 -11.328125 19.921875 -12.34375 \nQ 23.78125 -13.375 27.78125 -13.375 \nQ 36.625 -13.375 41.015625 -8.765625 \nQ 45.40625 -4.15625 45.40625 5.171875 \nL 45.40625 9.625 \nQ 42.625 4.78125 38.28125 2.390625 \nQ 33.9375 0 27.875 0 \nQ 17.828125 0 11.671875 7.65625 \nQ 5.515625 15.328125 5.515625 27.984375 \nQ 5.515625 40.671875 11.671875 48.328125 \nQ 17.828125 56 27.875 56 \nQ 33.9375 56 38.28125 53.609375 \nQ 42.625 51.21875 45.40625 46.390625 \nL 45.40625 54.6875 \nL 54.390625 54.6875 \nz\n\" id=\"DejaVuSans-103\"/>\n     </defs>\n     <g transform=\"translate(14.798437 156.431875)rotate(-90)scale(0.1 -0.1)\">\n      <use xlink:href=\"#DejaVuSans-65\"/>\n      <use x=\"62.533203\" xlink:href=\"#DejaVuSans-118\"/>\n      <use x=\"121.712891\" xlink:href=\"#DejaVuSans-103\"/>\n      <use x=\"185.189453\" xlink:href=\"#DejaVuSans-32\"/>\n      <use x=\"216.976562\" xlink:href=\"#DejaVuSans-103\"/>\n      <use x=\"280.453125\" xlink:href=\"#DejaVuSans-114\"/>\n      <use x=\"321.566406\" xlink:href=\"#DejaVuSans-97\"/>\n      <use x=\"382.845703\" xlink:href=\"#DejaVuSans-100\"/>\n      <use x=\"446.322266\" xlink:href=\"#DejaVuSans-101\"/>\n     </g>\n    </g>\n   </g>\n   <g id=\"patch_8\">\n    <path d=\"M 34.240625 239.758125 \nL 34.240625 22.318125 \n\" style=\"fill:none;stroke:#000000;stroke-linecap:square;stroke-linejoin:miter;stroke-width:0.8;\"/>\n   </g>\n   <g id=\"patch_9\">\n    <path d=\"M 369.040625 239.758125 \nL 369.040625 22.318125 \n\" style=\"fill:none;stroke:#000000;stroke-linecap:square;stroke-linejoin:miter;stroke-width:0.8;\"/>\n   </g>\n   <g id=\"patch_10\">\n    <path d=\"M 34.240625 239.758125 \nL 369.040625 239.758125 \n\" style=\"fill:none;stroke:#000000;stroke-linecap:square;stroke-linejoin:miter;stroke-width:0.8;\"/>\n   </g>\n   <g id=\"patch_11\">\n    <path d=\"M 34.240625 22.318125 \nL 369.040625 22.318125 \n\" style=\"fill:none;stroke:#000000;stroke-linecap:square;stroke-linejoin:miter;stroke-width:0.8;\"/>\n   </g>\n   <g id=\"text_13\">\n    <!-- Students grades -->\n    <defs>\n     <path d=\"M 53.515625 70.515625 \nL 53.515625 60.890625 \nQ 47.90625 63.578125 42.921875 64.890625 \nQ 37.9375 66.21875 33.296875 66.21875 \nQ 25.25 66.21875 20.875 63.09375 \nQ 16.5 59.96875 16.5 54.203125 \nQ 16.5 49.359375 19.40625 46.890625 \nQ 22.3125 44.4375 30.421875 42.921875 \nL 36.375 41.703125 \nQ 47.40625 39.59375 52.65625 34.296875 \nQ 57.90625 29 57.90625 20.125 \nQ 57.90625 9.515625 50.796875 4.046875 \nQ 43.703125 -1.421875 29.984375 -1.421875 \nQ 24.8125 -1.421875 18.96875 -0.25 \nQ 13.140625 0.921875 6.890625 3.21875 \nL 6.890625 13.375 \nQ 12.890625 10.015625 18.65625 8.296875 \nQ 24.421875 6.59375 29.984375 6.59375 \nQ 38.421875 6.59375 43.015625 9.90625 \nQ 47.609375 13.234375 47.609375 19.390625 \nQ 47.609375 24.75 44.3125 27.78125 \nQ 41.015625 30.8125 33.5 32.328125 \nL 27.484375 33.5 \nQ 16.453125 35.6875 11.515625 40.375 \nQ 6.59375 45.0625 6.59375 53.421875 \nQ 6.59375 63.09375 13.40625 68.65625 \nQ 20.21875 74.21875 32.171875 74.21875 \nQ 37.3125 74.21875 42.625 73.28125 \nQ 47.953125 72.359375 53.515625 70.515625 \nz\n\" id=\"DejaVuSans-83\"/>\n    </defs>\n    <g transform=\"translate(152.409688 16.318125)scale(0.12 -0.12)\">\n     <use xlink:href=\"#DejaVuSans-83\"/>\n     <use x=\"63.476562\" xlink:href=\"#DejaVuSans-116\"/>\n     <use x=\"102.685547\" xlink:href=\"#DejaVuSans-117\"/>\n     <use x=\"166.064453\" xlink:href=\"#DejaVuSans-100\"/>\n     <use x=\"229.541016\" xlink:href=\"#DejaVuSans-101\"/>\n     <use x=\"291.064453\" xlink:href=\"#DejaVuSans-110\"/>\n     <use x=\"354.443359\" xlink:href=\"#DejaVuSans-116\"/>\n     <use x=\"393.652344\" xlink:href=\"#DejaVuSans-115\"/>\n     <use x=\"445.751953\" xlink:href=\"#DejaVuSans-32\"/>\n     <use x=\"477.539062\" xlink:href=\"#DejaVuSans-103\"/>\n     <use x=\"541.015625\" xlink:href=\"#DejaVuSans-114\"/>\n     <use x=\"582.128906\" xlink:href=\"#DejaVuSans-97\"/>\n     <use x=\"643.408203\" xlink:href=\"#DejaVuSans-100\"/>\n     <use x=\"706.884766\" xlink:href=\"#DejaVuSans-101\"/>\n     <use x=\"768.408203\" xlink:href=\"#DejaVuSans-115\"/>\n    </g>\n   </g>\n  </g>\n </g>\n <defs>\n  <clipPath id=\"p382ba1285f\">\n   <rect height=\"217.44\" width=\"334.8\" x=\"34.240625\" y=\"22.318125\"/>\n  </clipPath>\n </defs>\n</svg>\n",
      "image/png": "[encoded data removed]"
     },
     "metadata": {
      "needs_background": "light"
     }
    }
   ],
   "source": [
    "import matplotlib.pyplot as plt\n",
    "\n",
    "print(\"Testing CSV reader\")\n",
    "input_file = \"week3modules/students.csv\"\n",
    "input_from_csvfile = read_from_csvfile(input_file)\n",
    "print(*input_from_csvfile, sep = \"\\n\")\n",
    "\n",
    "print(\"Task A\")\n",
    "print(*taskA(input_from_csvfile), sep = \"\\n\")\n",
    "\n",
    "print(\"Task B\")\n",
    "print(*taskB(input_from_csvfile), sep = \"\\n\")\n",
    "\n",
    "print(\"Task C\")\n",
    "\n",
    "name = []\n",
    "grade = []\n",
    "for x in taskA(input_from_csvfile):\n",
    "    name.append(x[0])\n",
    "    grade.append(x[2])\n",
    "plt.figure()\n",
    "plt.bar(name, grade)\n",
    "plt.title(\"Students grades\")\n",
    "plt.xlabel(\"student\")\n",
    "plt.ylabel(\"Avg grade\")\n",
    "plt.show(block=True)\n"
   ]
  },
  {
   "source": [
    "### Exercise 9\n",
    "9. Make a method on Student class that can show progression of the study in % (add up ECTS from all passed courses divided by total of 150 total points (equivalent to 5 semesters))\n"
   ],
   "cell_type": "markdown",
   "metadata": {}
  },
  {
   "cell_type": "code",
   "execution_count": null,
   "metadata": {},
   "outputs": [],
   "source": []
  },
  {
   "source": [
    "## Exercise 2\n",
    "    \n"
   ],
   "cell_type": "markdown",
   "metadata": {}
  },
  {
   "cell_type": "code",
   "execution_count": null,
   "metadata": {},
   "outputs": [],
   "source": []
  }
 ],
 "metadata": {
  "kernelspec": {
   "display_name": "Python 3",
   "language": "python",
   "name": "python3"
  },
  "language_info": {
   "codemirror_mode": {
    "name": "ipython",
    "version": 3
   },
   "file_extension": ".py",
   "mimetype": "text/x-python",
   "name": "python",
   "nbconvert_exporter": "python",
   "pygments_lexer": "ipython3",
   "version": "3.7.6-final"
  }
 },
 "nbformat": 4,
 "nbformat_minor": 4
}