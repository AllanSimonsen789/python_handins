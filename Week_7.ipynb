{
 "cells": [
  {
   "cell_type": "markdown",
   "metadata": {},
   "source": [
    "# Week 7 handin"
   ]
  },
  {
   "cell_type": "markdown",
   "metadata": {},
   "source": [
    "## 01 Assignment\n",
    "\n",
    "# Handin Exercise 7\n",
    "\n",
    "BilBasen.dk\n",
    "Remember to handle the popup when you first enter the site. Find id og klik.\n",
    "\n",
    "### Exercise1:\n",
    "\n",
    "Create a python class car_basen_dK:\n",
    "\n",
    "Use selenium to set the search criteria “leasing” to false\n",
    "\n",
    "Use selenium to search for; “Bentley”\n",
    "\n",
    "Use BeautifulSoup to find all the prices, kilometres driven and the link reference href\n",
    "\n",
    "Calculate which car is the cheapest pr. kilometre driven\n",
    "\n",
    "Remember that some of the prices are listed as; “Ring”\n",
    "Handle that…\n",
    "\n",
    "Test the class from the .py file in CLI\n",
    "\n",
    "Make the class dynamic\n",
    "\n",
    "### Exercise2:\n",
    "\n",
    "In your notebook import the python class car_basen_dK:\n",
    "\n",
    "Search for the Bentley car\n",
    "\n",
    "Sort the cars in ascending order\n",
    "\n",
    "Use regex to extract the car model from the link reference\n",
    "\n",
    "Plot the prices on the Y axis, and the car name on the x axis in a bar chart\n",
    "\n",
    "Demonstrate the function calculating the cheapest car pr. kilometre driven\n",
    "\n",
    "\n",
    "Made by:\n",
    "Lucky drawing"
   ]
  },
  {
   "source": [
    "## 02 Status\n",
    "Completed all EX1 tasks"
   ],
   "cell_type": "markdown",
   "metadata": {}
  },
  {
   "cell_type": "markdown",
   "metadata": {},
   "source": [
    "## Solutions\n"
   ]
  },
  {
   "cell_type": "code",
   "execution_count": null,
   "metadata": {},
   "outputs": [],
   "source": [
    "class car_basen_dK():\n",
    "\n",
    "    "
   ]
  }
 ],
 "metadata": {
  "kernelspec": {
   "display_name": "Python 3",
   "language": "python",
   "name": "python3"
  },
  "language_info": {
   "codemirror_mode": {
    "name": "ipython",
    "version": 3
   },
   "file_extension": ".py",
   "mimetype": "text/x-python",
   "name": "python",
   "nbconvert_exporter": "python",
   "pygments_lexer": "ipython3",
   "version": "3.7.6-final"
  }
 },
 "nbformat": 4,
 "nbformat_minor": 4
}