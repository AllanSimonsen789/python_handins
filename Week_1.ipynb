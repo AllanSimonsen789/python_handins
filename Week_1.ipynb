{
 "cells": [
  {
   "cell_type": "markdown",
   "metadata": {},
   "source": [
    "# Week 1 handin"
   ]
  },
  {
   "cell_type": "markdown",
   "metadata": {},
   "source": [
    "## 01 Assignment\n",
    "1. Create 5 list comprehensions to solve the following 5 problems:\n",
    "    1. Iterate a list of names to return a list of the names starting with H\n",
    "   2. In one line create a list of the numbers 1-100 to the power of 3\n",
    "    3. Iterate a list of names to create a list of tuples where the tuples first value is the length of the name and the second is the name\n",
    "    4. Iterate over each character in a string and get only those that are nummeric\n",
    "   5. Using only a list comprehension wrapped in set() get all possible combination from throwing 2 dice (hint use 2 for loops in a single list comprehension)\n",
    "\n",
    "2. Create 2 dictionary comprehensions to solve the following:\n",
    "   1. Iterate a list of names and create a dictionary where key is the name and value is the length of the name\n",
    "   2. Iterate a list of numbers and create a dictionary with {key:value} being {number:squareroot_of_number}\n",
    "\n",
    "3. Extra assignment (This one goes beyond what is covered in the course notebooks. So only do it if you want an extra challenge).\n",
    "  - Progammatically using loops create a small program to produce a dictionary with all the 2 dice throw combinations as keys and their likelyhood in percent as values\n",
    "  "
   ]
  },
  {
   "source": [
    "## 02 Status\n",
    "Solved all tasks"
   ],
   "cell_type": "markdown",
   "metadata": {}
  },
  {
   "cell_type": "markdown",
   "metadata": {},
   "source": [
    "## Create 5 list comprehensions to solve the following 5 problems: "
   ]
  },
  {
   "source": [
    "#Iterate a list of names to return a list of the names starting with H\n",
    "name_list = [\"Helle\", \"Hans\", \"Allan\", \"Tobias\", \"henrik\", \"Hanne\"]\n",
    "print(\"All names\" + str(name_list))\n",
    "\n",
    "h_list = [element for element in name_list if element.lower()[0] == \"h\"]\n",
    "print(\"H names: \" + str(h_list))"
   ],
   "cell_type": "code",
   "metadata": {
    "tags": []
   },
   "execution_count": 5,
   "outputs": [
    {
     "output_type": "stream",
     "name": "stdout",
     "text": "All names['Helle', 'Hans', 'Allan', 'Tobias', 'henrik', 'Hanne']\nH names: ['Helle', 'Hans', 'henrik', 'Hanne']\n"
    }
   ]
  },
  {
   "cell_type": "code",
   "execution_count": 7,
   "metadata": {
    "tags": []
   },
   "outputs": [
    {
     "output_type": "stream",
     "name": "stdout",
     "text": "[1, 8, 27, 64, 125, 216, 343, 512, 729, 1000, 1331, 1728, 2197, 2744, 3375, 4096, 4913, 5832, 6859, 8000, 9261, 10648, 12167, 13824, 15625, 17576, 19683, 21952, 24389, 27000, 29791, 32768, 35937, 39304, 42875, 46656, 50653, 54872, 59319, 64000, 68921, 74088, 79507, 85184, 91125, 97336, 103823, 110592, 117649, 125000, 132651, 140608, 148877, 157464, 166375, 175616, 185193, 195112, 205379, 216000, 226981, 238328, 250047, 262144, 274625, 287496, 300763, 314432, 328509, 343000, 357911, 373248, 389017, 405224, 421875, 438976, 456533, 474552, 493039, 512000, 531441, 551368, 571787, 592704, 614125, 636056, 658503, 681472, 704969, 729000, 753571, 778688, 804357, 830584, 857375, 884736, 912673, 941192, 970299, 1000000]\n"
    }
   ],
   "source": [
    "#In one line create a list of the numbers 1-100 to the power of 3\n",
    "number_line = [element**3 for element in list(range(1,101))]\n",
    "print(number_line)"
   ]
  },
  {
   "cell_type": "code",
   "execution_count": 8,
   "metadata": {
    "tags": []
   },
   "outputs": [
    {
     "output_type": "stream",
     "name": "stdout",
     "text": "[(5, 'Helle'), (4, 'Hans'), (5, 'Allan'), (6, 'Tobias'), (6, 'henrik'), (5, 'Hanne')]\n"
    }
   ],
   "source": [
    "#Iterate a list of names to create a list of tuples where the tuples first value is the length of the name and the second is the name\n",
    "tuple_list = [(len(element),element) for element in name_list]\n",
    "print(tuple_list)"
   ]
  },
  {
   "cell_type": "code",
   "execution_count": 9,
   "metadata": {
    "tags": []
   },
   "outputs": [
    {
     "output_type": "stream",
     "name": "stdout",
     "text": "98jds8jf 89df89jds89fdsjf89sj f89ds j98fdsm fs9d mf98ds 8989f\n[9, 8, 8, 8, 9, 8, 9, 8, 9, 8, 9, 8, 9, 9, 8, 9, 9, 8, 8, 9, 8, 9]\n"
    }
   ],
   "source": [
    "#Iterate over each character in a string and get only those that are nummeric\n",
    "string = \"98jds8jf 89df89jds89fdsjf89sj f89ds j98fdsm fs9d mf98ds 8989f\"\n",
    "print(string)\n",
    "\n",
    "numeric_list = [int(element) for element in string if element.isnumeric()]\n",
    "print(str(numeric_list))"
   ]
  },
  {
   "cell_type": "code",
   "execution_count": 13,
   "metadata": {
    "tags": []
   },
   "outputs": [
    {
     "output_type": "stream",
     "name": "stdout",
     "text": "{(1, 3), (6, 6), (5, 6), (2, 1), (6, 2), (1, 6), (5, 1), (2, 5), (1, 2), (3, 3), (5, 5), (4, 4), (6, 3), (1, 5), (3, 6), (2, 2), (4, 1), (1, 1), (6, 4), (3, 2), (2, 6), (5, 4), (4, 5), (5, 2), (1, 4), (2, 3), (4, 2), (6, 5), (3, 5), (5, 3), (4, 6), (6, 1), (3, 1), (4, 3), (3, 4), (2, 4)}\n"
    }
   ],
   "source": [
    "#Using only a list comprehension wrapped in set() get all possible combination from throwing 2 dice (hint use 2 for loops in a single list comprehension)\n",
    "dice_set = set([(dice1,dice2) for dice1 in list(range(1,7)) for dice2 in list(range(1,7))])\n",
    "print(dice_set)"
   ]
  },
  {
   "cell_type": "markdown",
   "metadata": {},
   "source": [
    "## Create 2 dictionary comprehensions to solve the following:"
   ]
  },
  {
   "cell_type": "code",
   "execution_count": 18,
   "metadata": {
    "tags": []
   },
   "outputs": [
    {
     "output_type": "stream",
     "name": "stdout",
     "text": "{'Helle': 5, 'Hans': 4, 'Allan': 5, 'Tobias': 6, 'henrik': 6, 'Hanne': 5}\n4\n"
    }
   ],
   "source": [
    "# Iterate a list of names and create a dictionary where key is the name and value is the length of the name\n",
    "dictionary = {element : len(element) for element in name_list}\n",
    "print(dictionary)\n",
    "print(dictionary.get(\"Hans\"))\n"
   ]
  },
  {
   "cell_type": "code",
   "execution_count": 19,
   "metadata": {
    "tags": []
   },
   "outputs": [
    {
     "output_type": "stream",
     "name": "stdout",
     "text": "[1, 2, 3, 4, 5, 6, 7, 8, 9, 10, 11, 12, 13, 14, 15, 16, 17, 18, 19, 20, 21, 22, 23, 24, 25, 26, 27, 28, 29, 30, 31, 32, 33, 34, 35, 36, 37, 38, 39, 40, 41, 42, 43, 44, 45, 46, 47, 48, 49, 50, 51, 52, 53, 54, 55, 56, 57, 58, 59, 60, 61, 62, 63, 64, 65, 66, 67, 68, 69, 70, 71, 72, 73, 74, 75, 76, 77, 78, 79, 80, 81, 82, 83, 84, 85, 86, 87, 88, 89, 90, 91, 92, 93, 94, 95, 96, 97, 98, 99, 100]\n{1: 1, 2: 4, 3: 9, 4: 16, 5: 25, 6: 36, 7: 49, 8: 64, 9: 81, 10: 100, 11: 121, 12: 144, 13: 169, 14: 196, 15: 225, 16: 256, 17: 289, 18: 324, 19: 361, 20: 400, 21: 441, 22: 484, 23: 529, 24: 576, 25: 625, 26: 676, 27: 729, 28: 784, 29: 841, 30: 900, 31: 961, 32: 1024, 33: 1089, 34: 1156, 35: 1225, 36: 1296, 37: 1369, 38: 1444, 39: 1521, 40: 1600, 41: 1681, 42: 1764, 43: 1849, 44: 1936, 45: 2025, 46: 2116, 47: 2209, 48: 2304, 49: 2401, 50: 2500, 51: 2601, 52: 2704, 53: 2809, 54: 2916, 55: 3025, 56: 3136, 57: 3249, 58: 3364, 59: 3481, 60: 3600, 61: 3721, 62: 3844, 63: 3969, 64: 4096, 65: 4225, 66: 4356, 67: 4489, 68: 4624, 69: 4761, 70: 4900, 71: 5041, 72: 5184, 73: 5329, 74: 5476, 75: 5625, 76: 5776, 77: 5929, 78: 6084, 79: 6241, 80: 6400, 81: 6561, 82: 6724, 83: 6889, 84: 7056, 85: 7225, 86: 7396, 87: 7569, 88: 7744, 89: 7921, 90: 8100, 91: 8281, 92: 8464, 93: 8649, 94: 8836, 95: 9025, 96: 9216, 97: 9409, 98: 9604, 99: 9801, 100: 10000}\n25\n"
    }
   ],
   "source": [
    "#Iterate a list of numbers and create a dictionary with {key:value} being {number:squareroot_of_number}\n",
    "numbers_list = list(range(1,101))\n",
    "print(numbers_list)\n",
    "\n",
    "square_dic = {element : element**2 for element in numbers_list}\n",
    "print(square_dic)\n",
    "print(square_dic.get(5))"
   ]
  },
  {
   "source": [
    "## Extra assignment (This one goes beyond what is covered in the course notebooks. So only do it if you want an extra challenge).\n"
   ],
   "cell_type": "markdown",
   "metadata": {}
  },
  {
   "cell_type": "code",
   "execution_count": 31,
   "metadata": {
    "tags": []
   },
   "outputs": [
    {
     "output_type": "stream",
     "name": "stdout",
     "text": "[2, 3, 3, 4, 4, 4, 5, 5, 5, 5, 6, 6, 6, 6, 6, 7, 7, 7, 7, 7, 7, 8, 8, 8, 8, 8, 9, 9, 9, 9, 10, 10, 10, 11, 11, 12]\n{2: 1, 3: 2, 4: 3, 5: 4, 6: 5, 7: 6, 8: 5, 9: 4, 10: 3, 11: 2, 12: 1}\n{2: '2.8%', 3: '5.6%', 4: '8.3%', 5: '11.1%', 6: '13.9%', 7: '16.7%', 8: '13.9%', 9: '11.1%', 10: '8.3%', 11: '5.6%', 12: '2.8%'}\n"
    }
   ],
   "source": [
    "#Progammatically using loops create a small program to produce a dictionary with all the 2 dice throw combinations as keys and their likelyhood in percent as values\n",
    "dice_throws = sorted([(dice1+dice2) for dice1 in list(range(1,7)) for dice2 in list(range(1,7))])\n",
    "print(dice_throws)\n",
    "\n",
    "amount_of_occurence = {}\n",
    "for value in dice_throws:\n",
    "    amount_of_occurence.setdefault(value, 0)\n",
    "    amount_of_occurence[value] += 1\n",
    "print(amount_of_occurence) \n",
    "\n",
    "\n",
    "percentlist = {key:str(round(value*100/len(dice_throws), 1))+\"%\" for (key,value) in amount_of_occurence.items()}\n",
    "print(percentlist)\n"
   ]
  },
  {
   "cell_type": "code",
   "execution_count": null,
   "metadata": {},
   "outputs": [],
   "source": []
  }
 ],
 "metadata": {
  "kernelspec": {
   "display_name": "Python 3",
   "language": "python",
   "name": "python3"
  },
  "language_info": {
   "codemirror_mode": {
    "name": "ipython",
    "version": 3
   },
   "file_extension": ".py",
   "mimetype": "text/x-python",
   "name": "python",
   "nbconvert_exporter": "python",
   "pygments_lexer": "ipython3",
   "version": "3.7.6-final"
  }
 },
 "nbformat": 4,
 "nbformat_minor": 4
}